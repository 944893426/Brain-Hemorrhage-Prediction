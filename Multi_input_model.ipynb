{
 "cells": [
  {
   "cell_type": "code",
   "execution_count": 20,
   "metadata": {},
   "outputs": [],
   "source": [
    "from keras.utils import plot_model\n",
    "from keras.models import Model\n",
    "from keras.layers import Input\n",
    "from keras.layers import Dense\n",
    "from keras.layers import Flatten\n",
    "#from keras.layers.convolutional import Conv2D\n",
    "#from keras.layers.pooling import MaxPooling2D\n",
    "from keras.layers.merge import concatenate\n",
    "from keras.layers.recurrent import LSTM\n",
    "from sklearn.preprocessing import StandardScaler,OneHotEncoder\n",
    "from keras.models import load_model\n",
    "import pandas as pd\n",
    "import numpy as np\n",
    "from keras.layers import Dropout\n"
   ]
  },
  {
   "cell_type": "code",
   "execution_count": 3,
   "metadata": {},
   "outputs": [],
   "source": [
    "data = pd.read_csv(\"data/data/train_data_final_50k.csv\", header = None)"
   ]
  },
  {
   "cell_type": "code",
   "execution_count": 4,
   "metadata": {},
   "outputs": [],
   "source": [
    "train_data = data[data[0]<500]\n",
    "test_data = data[data[0]>=500]"
   ]
  },
  {
   "cell_type": "code",
   "execution_count": 5,
   "metadata": {},
   "outputs": [],
   "source": [
    "train_features_timeseries = train_data.iloc[:,22:622]\n",
    "test_features_timeseries = test_data.iloc[:,22:622]\n",
    "train_features_18 = train_data[[4,5,6,7,8,9,10,11,12,13,14,15,16,17,18,19,20,21]]\n",
    "test_features_18 = test_data[[4,5,6,7,8,9,10,11,12,13,14,15,16,17,18,19,20,21]]"
   ]
  },
  {
   "cell_type": "code",
   "execution_count": 6,
   "metadata": {},
   "outputs": [],
   "source": [
    "train_labels = train_data.iloc[:,622]\n",
    "test_labels = test_data.iloc[:,622]"
   ]
  },
  {
   "cell_type": "code",
   "execution_count": 7,
   "metadata": {},
   "outputs": [
    {
     "name": "stdout",
     "output_type": "stream",
     "text": [
      "(42920, 600)\n",
      "(7080, 600)\n",
      "(42920, 18)\n",
      "(7080, 18)\n",
      "(42920,)\n",
      "(7080,)\n"
     ]
    }
   ],
   "source": [
    "print(train_features_timeseries.shape)\n",
    "print(test_features_timeseries.shape)\n",
    "print(train_features_18.shape)\n",
    "print(test_features_18.shape)\n",
    "print(train_labels.shape)\n",
    "print(test_labels.shape)"
   ]
  },
  {
   "cell_type": "code",
   "execution_count": 8,
   "metadata": {},
   "outputs": [],
   "source": [
    "train_features_reshaped = train_features_timeseries.as_matrix().reshape(42920,60,10)\n",
    "test_features_reshaped = test_features_timeseries.as_matrix().reshape(7080,60,10)"
   ]
  },
  {
   "cell_type": "code",
   "execution_count": 9,
   "metadata": {},
   "outputs": [
    {
     "name": "stdout",
     "output_type": "stream",
     "text": [
      "(42920, 60, 10)\n",
      "(7080, 60, 10)\n"
     ]
    }
   ],
   "source": [
    "print(train_features_reshaped.shape)\n",
    "print(test_features_reshaped.shape)"
   ]
  },
  {
   "cell_type": "code",
   "execution_count": 26,
   "metadata": {},
   "outputs": [],
   "source": [
    "def get_hot_value(my_list):\n",
    "    max_val = max(my_list)\n",
    "    return [int(item == max_val) for item in my_list]\n",
    "\n",
    "def fit_model(train_features_timeseries,train_features_18, train_labels,test_features_timeseries,test_features_18, test_labels, batch_size, epochs, pickle_name):\n",
    "    #x_18 = features_18.as_matrix()\n",
    "    x_18 = Input(shape=(18,))\n",
    "    #out_18  = Dense(10,activation = 'relu')(x_18)\n",
    "    \n",
    "    y_train = np.array(train_labels)\n",
    "    y_test = np.array(test_labels)\n",
    "    \n",
    "    #le = preprocessing.LabelEncoder()\n",
    "    #y = le.fit_transform(y)\n",
    "\n",
    "    y_train = y_train.reshape(-1,1)\n",
    "    y_test = y_test.reshape(-1,1)\n",
    "    \n",
    "    ohe = OneHotEncoder(sparse=False)\n",
    "    y_train = ohe.fit_transform(y_train)\n",
    "    y_test = ohe.transform(y_test)\n",
    "    \n",
    "    #x_lstm = features_timeseries\n",
    "    x_lstm = Input(shape = (60,10))\n",
    "    out_lstm = LSTM(60)(x_lstm)\n",
    "    \n",
    "    out_lstm_drop = Dropout(0.4)(out_lstm)\n",
    "    \n",
    "    merge = concatenate([x_18, out_lstm_drop])\n",
    "    \n",
    "    #output_inter1 = Dense(100,activation = 'relu')(merge)\n",
    "    \n",
    "    #output_inter2 = Dense(100, activation='relu')(output_inter1)\n",
    "    \n",
    "    output_final = Dense(2, activation='softmax')(merge)\n",
    "    \n",
    "    model = Model(inputs=[x_18,x_lstm], outputs=[output_final])\n",
    "    model.compile(optimizer='adam',loss='binary_crossentropy',metrics=['acc'])\n",
    "    print(model.summary())\n",
    "# plot graph\n",
    "    #from IPython.display import SVG\n",
    "    #from keras.utils.vis_utils import model_to_dot\n",
    "    #SVG(model_to_dot(model).create(prog='dot', format='svg'))\n",
    "    model.fit([train_features_18,train_features_timeseries],[y_train],epochs=epochs,batch_size=batch_size,validation_data = ([test_features_18,test_features_timeseries],[y_test]))\n",
    "    model.save(pickle_name)\n",
    "    return \n",
    "    "
   ]
  },
  {
   "cell_type": "code",
   "execution_count": 27,
   "metadata": {},
   "outputs": [],
   "source": [
    "def test_lstm(test_features_reshaped,test_features_18, test_labels, pickle_name):\n",
    "    \n",
    "    model = load_model(pickle_name)\n",
    "    \n",
    "    #X = test_features\n",
    "    y = np.array(test_labels)\n",
    "    #le = preprocessing.LabelEncoder()\n",
    "    #y = le.fit_transform(y)\n",
    "\n",
    "    y = y.reshape(-1,1)\n",
    "    ohe = OneHotEncoder(sparse=False)\n",
    "    y = ohe.fit_transform(y)\n",
    "    \n",
    "    #Evaluate the model\n",
    "    scores = model.evaluate([test_features_18,test_features_reshaped], y, verbose=1)\n",
    "    predicted_labels = model.predict([test_features_18,test_features_reshaped])\n",
    "\n",
    "    print(\"Accuracy: \", scores[1]*100)\n",
    "\n",
    "    hot_list = [get_hot_value(sublist) for sublist in predicted_labels]\n",
    "\n",
    "    #t  = np.array(y)\n",
    "    #p  = np.array(hot_list)\n",
    "    #t = np.argmax(t, axis=1)\n",
    "    #p = np.argmax(p, axis=1)\n",
    "\n",
    "    #print(\"Precision: \", precision_score(t, p, average=None))\n",
    "    \n",
    "    return hot_list, ohe"
   ]
  },
  {
   "cell_type": "code",
   "execution_count": 28,
   "metadata": {},
   "outputs": [
    {
     "name": "stdout",
     "output_type": "stream",
     "text": [
      "__________________________________________________________________________________________________\n",
      "Layer (type)                    Output Shape         Param #     Connected to                     \n",
      "==================================================================================================\n",
      "input_8 (InputLayer)            (None, 60, 10)       0                                            \n",
      "__________________________________________________________________________________________________\n",
      "lstm_4 (LSTM)                   (None, 60)           17040       input_8[0][0]                    \n",
      "__________________________________________________________________________________________________\n",
      "input_7 (InputLayer)            (None, 18)           0                                            \n",
      "__________________________________________________________________________________________________\n",
      "dropout_2 (Dropout)             (None, 60)           0           lstm_4[0][0]                     \n",
      "__________________________________________________________________________________________________\n",
      "concatenate_4 (Concatenate)     (None, 78)           0           input_7[0][0]                    \n",
      "                                                                 dropout_2[0][0]                  \n",
      "__________________________________________________________________________________________________\n",
      "dense_4 (Dense)                 (None, 2)            158         concatenate_4[0][0]              \n",
      "==================================================================================================\n",
      "Total params: 17,198\n",
      "Trainable params: 17,198\n",
      "Non-trainable params: 0\n",
      "__________________________________________________________________________________________________\n",
      "None\n",
      "Train on 42920 samples, validate on 7080 samples\n",
      "Epoch 1/10\n",
      "42920/42920 [==============================] - 151s 4ms/step - loss: 0.5019 - acc: 0.7381 - val_loss: 0.5549 - val_acc: 0.7218\n",
      "Epoch 2/10\n",
      "42920/42920 [==============================] - 149s 3ms/step - loss: 0.4565 - acc: 0.7676 - val_loss: 0.5345 - val_acc: 0.7610\n",
      "Epoch 3/10\n",
      "42920/42920 [==============================] - 145s 3ms/step - loss: 0.4383 - acc: 0.7854 - val_loss: 0.5632 - val_acc: 0.7290\n",
      "Epoch 4/10\n",
      "42920/42920 [==============================] - 146s 3ms/step - loss: 0.4096 - acc: 0.8098 - val_loss: 0.5938 - val_acc: 0.7240\n",
      "Epoch 5/10\n",
      "42920/42920 [==============================] - 145s 3ms/step - loss: 0.3973 - acc: 0.8171 - val_loss: 0.5365 - val_acc: 0.7545\n",
      "Epoch 6/10\n",
      "42920/42920 [==============================] - 147s 3ms/step - loss: 0.3828 - acc: 0.8304 - val_loss: 0.5489 - val_acc: 0.7706\n",
      "Epoch 7/10\n",
      "42920/42920 [==============================] - 143s 3ms/step - loss: 0.3561 - acc: 0.8489 - val_loss: 0.5275 - val_acc: 0.7780\n",
      "Epoch 8/10\n",
      "42920/42920 [==============================] - 145s 3ms/step - loss: 0.3350 - acc: 0.8602 - val_loss: 0.5652 - val_acc: 0.7713\n",
      "Epoch 9/10\n",
      "42920/42920 [==============================] - 144s 3ms/step - loss: 0.3191 - acc: 0.8709 - val_loss: 0.5769 - val_acc: 0.7821\n",
      "Epoch 10/10\n",
      "42920/42920 [==============================] - 145s 3ms/step - loss: 0.3042 - acc: 0.8793 - val_loss: 0.5696 - val_acc: 0.7884\n"
     ]
    }
   ],
   "source": [
    "fit_model(train_features_reshaped,train_features_18,train_labels,test_features_reshaped,test_features_18,test_labels,32,10,'multi_input.h5')"
   ]
  },
  {
   "cell_type": "code",
   "execution_count": null,
   "metadata": {},
   "outputs": [],
   "source": []
  }
 ],
 "metadata": {
  "anaconda-cloud": {},
  "kernelspec": {
   "display_name": "Python [conda root]",
   "language": "python",
   "name": "conda-root-py"
  },
  "language_info": {
   "codemirror_mode": {
    "name": "ipython",
    "version": 3
   },
   "file_extension": ".py",
   "mimetype": "text/x-python",
   "name": "python",
   "nbconvert_exporter": "python",
   "pygments_lexer": "ipython3",
   "version": "3.5.2"
  }
 },
 "nbformat": 4,
 "nbformat_minor": 2
}
