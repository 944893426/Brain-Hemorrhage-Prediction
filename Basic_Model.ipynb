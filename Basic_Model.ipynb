{
 "cells": [
  {
   "cell_type": "code",
   "execution_count": 24,
   "metadata": {},
   "outputs": [],
   "source": [
    "import pandas as pd\n",
    "import numpy as np\n",
    "from sklearn.model_selection import cross_val_score\n",
    "from sklearn.tree import DecisionTreeClassifier\n",
    "from sklearn.metrics import accuracy_score\n",
    "from sklearn.preprocessing import StandardScaler"
   ]
  },
  {
   "cell_type": "code",
   "execution_count": 25,
   "metadata": {},
   "outputs": [],
   "source": [
    "data = pd.read_csv(\"data/data/train_data_final_50k.csv\", header = None)"
   ]
  },
  {
   "cell_type": "markdown",
   "metadata": {},
   "source": [
    "## Data Visualization"
   ]
  },
  {
   "cell_type": "code",
   "execution_count": 26,
   "metadata": {},
   "outputs": [
    {
     "data": {
      "text/html": [
       "<div>\n",
       "<table border=\"1\" class=\"dataframe\">\n",
       "  <thead>\n",
       "    <tr style=\"text-align: right;\">\n",
       "      <th></th>\n",
       "      <th>0</th>\n",
       "      <th>1</th>\n",
       "      <th>2</th>\n",
       "      <th>3</th>\n",
       "      <th>4</th>\n",
       "      <th>5</th>\n",
       "      <th>6</th>\n",
       "      <th>7</th>\n",
       "      <th>8</th>\n",
       "      <th>9</th>\n",
       "      <th>...</th>\n",
       "      <th>613</th>\n",
       "      <th>614</th>\n",
       "      <th>615</th>\n",
       "      <th>616</th>\n",
       "      <th>617</th>\n",
       "      <th>618</th>\n",
       "      <th>619</th>\n",
       "      <th>620</th>\n",
       "      <th>621</th>\n",
       "      <th>622</th>\n",
       "    </tr>\n",
       "  </thead>\n",
       "  <tbody>\n",
       "    <tr>\n",
       "      <th>0</th>\n",
       "      <td>528</td>\n",
       "      <td>158</td>\n",
       "      <td>112</td>\n",
       "      <td>23</td>\n",
       "      <td>0.150380</td>\n",
       "      <td>0.146330</td>\n",
       "      <td>0.142520</td>\n",
       "      <td>0.153820</td>\n",
       "      <td>0.148660</td>\n",
       "      <td>0.138230</td>\n",
       "      <td>...</td>\n",
       "      <td>0.149050</td>\n",
       "      <td>0.148270</td>\n",
       "      <td>0.140620</td>\n",
       "      <td>0.133380</td>\n",
       "      <td>0.134310</td>\n",
       "      <td>0.138130</td>\n",
       "      <td>0.139070</td>\n",
       "      <td>0.134450</td>\n",
       "      <td>0.124640</td>\n",
       "      <td>1</td>\n",
       "    </tr>\n",
       "    <tr>\n",
       "      <th>1</th>\n",
       "      <td>367</td>\n",
       "      <td>89</td>\n",
       "      <td>173</td>\n",
       "      <td>20</td>\n",
       "      <td>0.212500</td>\n",
       "      <td>0.197260</td>\n",
       "      <td>0.194210</td>\n",
       "      <td>0.215200</td>\n",
       "      <td>0.204170</td>\n",
       "      <td>0.202180</td>\n",
       "      <td>...</td>\n",
       "      <td>0.123590</td>\n",
       "      <td>0.120340</td>\n",
       "      <td>0.116290</td>\n",
       "      <td>0.114440</td>\n",
       "      <td>0.111110</td>\n",
       "      <td>0.110490</td>\n",
       "      <td>0.108930</td>\n",
       "      <td>0.106310</td>\n",
       "      <td>0.104780</td>\n",
       "      <td>1</td>\n",
       "    </tr>\n",
       "    <tr>\n",
       "      <th>2</th>\n",
       "      <td>283</td>\n",
       "      <td>190</td>\n",
       "      <td>55</td>\n",
       "      <td>17</td>\n",
       "      <td>0.027484</td>\n",
       "      <td>0.036190</td>\n",
       "      <td>0.046603</td>\n",
       "      <td>0.019973</td>\n",
       "      <td>0.032946</td>\n",
       "      <td>0.047286</td>\n",
       "      <td>...</td>\n",
       "      <td>0.114170</td>\n",
       "      <td>0.111660</td>\n",
       "      <td>0.111410</td>\n",
       "      <td>0.111810</td>\n",
       "      <td>0.110960</td>\n",
       "      <td>0.109900</td>\n",
       "      <td>0.109130</td>\n",
       "      <td>0.108310</td>\n",
       "      <td>0.106670</td>\n",
       "      <td>0</td>\n",
       "    </tr>\n",
       "    <tr>\n",
       "      <th>3</th>\n",
       "      <td>424</td>\n",
       "      <td>166</td>\n",
       "      <td>90</td>\n",
       "      <td>29</td>\n",
       "      <td>0.174210</td>\n",
       "      <td>0.170880</td>\n",
       "      <td>0.174460</td>\n",
       "      <td>0.190960</td>\n",
       "      <td>0.182380</td>\n",
       "      <td>0.176380</td>\n",
       "      <td>...</td>\n",
       "      <td>0.109080</td>\n",
       "      <td>0.103190</td>\n",
       "      <td>0.096503</td>\n",
       "      <td>0.091461</td>\n",
       "      <td>0.088297</td>\n",
       "      <td>0.085691</td>\n",
       "      <td>0.084188</td>\n",
       "      <td>0.082517</td>\n",
       "      <td>0.081374</td>\n",
       "      <td>1</td>\n",
       "    </tr>\n",
       "    <tr>\n",
       "      <th>4</th>\n",
       "      <td>18</td>\n",
       "      <td>221</td>\n",
       "      <td>249</td>\n",
       "      <td>25</td>\n",
       "      <td>0.055317</td>\n",
       "      <td>0.058417</td>\n",
       "      <td>0.059609</td>\n",
       "      <td>0.042918</td>\n",
       "      <td>0.049833</td>\n",
       "      <td>0.056509</td>\n",
       "      <td>...</td>\n",
       "      <td>0.020098</td>\n",
       "      <td>0.020716</td>\n",
       "      <td>0.021334</td>\n",
       "      <td>0.021952</td>\n",
       "      <td>0.022570</td>\n",
       "      <td>0.023188</td>\n",
       "      <td>0.023806</td>\n",
       "      <td>0.024424</td>\n",
       "      <td>0.025042</td>\n",
       "      <td>1</td>\n",
       "    </tr>\n",
       "  </tbody>\n",
       "</table>\n",
       "<p>5 rows × 623 columns</p>\n",
       "</div>"
      ],
      "text/plain": [
       "   0    1    2    3         4         5         6         7         8    \\\n",
       "0  528  158  112   23  0.150380  0.146330  0.142520  0.153820  0.148660   \n",
       "1  367   89  173   20  0.212500  0.197260  0.194210  0.215200  0.204170   \n",
       "2  283  190   55   17  0.027484  0.036190  0.046603  0.019973  0.032946   \n",
       "3  424  166   90   29  0.174210  0.170880  0.174460  0.190960  0.182380   \n",
       "4   18  221  249   25  0.055317  0.058417  0.059609  0.042918  0.049833   \n",
       "\n",
       "        9   ...        613       614       615       616       617       618  \\\n",
       "0  0.138230 ...   0.149050  0.148270  0.140620  0.133380  0.134310  0.138130   \n",
       "1  0.202180 ...   0.123590  0.120340  0.116290  0.114440  0.111110  0.110490   \n",
       "2  0.047286 ...   0.114170  0.111660  0.111410  0.111810  0.110960  0.109900   \n",
       "3  0.176380 ...   0.109080  0.103190  0.096503  0.091461  0.088297  0.085691   \n",
       "4  0.056509 ...   0.020098  0.020716  0.021334  0.021952  0.022570  0.023188   \n",
       "\n",
       "        619       620       621  622  \n",
       "0  0.139070  0.134450  0.124640    1  \n",
       "1  0.108930  0.106310  0.104780    1  \n",
       "2  0.109130  0.108310  0.106670    0  \n",
       "3  0.084188  0.082517  0.081374    1  \n",
       "4  0.023806  0.024424  0.025042    1  \n",
       "\n",
       "[5 rows x 623 columns]"
      ]
     },
     "execution_count": 26,
     "metadata": {},
     "output_type": "execute_result"
    }
   ],
   "source": [
    "data.head()"
   ]
  },
  {
   "cell_type": "markdown",
   "metadata": {},
   "source": [
    "### Distribution of Patients"
   ]
  },
  {
   "cell_type": "code",
   "execution_count": 27,
   "metadata": {},
   "outputs": [
    {
     "name": "stdout",
     "output_type": "stream",
     "text": [
      "62\n"
     ]
    },
    {
     "data": {
      "text/plain": [
       "array([[<matplotlib.axes._subplots.AxesSubplot object at 0x0000019B04A518D0>]],\n",
       "      dtype=object)"
      ]
     },
     "execution_count": 27,
     "metadata": {},
     "output_type": "execute_result"
    },
    {
     "data": {
      "image/png": "[encoded data removed]",
      "text/plain": [
       "<matplotlib.figure.Figure at 0x19b04a51160>"
      ]
     },
     "metadata": {},
     "output_type": "display_data"
    }
   ],
   "source": [
    "print(len(set(data[0])))\n",
    "pd.DataFrame.hist(data,column = 0,bins = 62 )"
   ]
  },
  {
   "cell_type": "markdown",
   "metadata": {},
   "source": [
    "### Distribution of Labels"
   ]
  },
  {
   "cell_type": "code",
   "execution_count": 28,
   "metadata": {},
   "outputs": [
    {
     "data": {
      "text/plain": [
       "array([[<matplotlib.axes._subplots.AxesSubplot object at 0x0000019B04C0EB70>]],\n",
       "      dtype=object)"
      ]
     },
     "execution_count": 28,
     "metadata": {},
     "output_type": "execute_result"
    },
    {
     "data": {
      "image/png": "[encoded data removed]",
      "text/plain": [
       "<matplotlib.figure.Figure at 0x19b04aef828>"
      ]
     },
     "metadata": {},
     "output_type": "display_data"
    }
   ],
   "source": [
    "pd.DataFrame.hist(data,column = 622,xlabelsize = 10)"
   ]
  },
  {
   "cell_type": "markdown",
   "metadata": {},
   "source": [
    "We should ensure that the patients present in the training set shhould not be in the testing set at any cost. Hence, the patients with ids greater than 500 are in the testing set and the ids less than 500 are in the training set.  "
   ]
  },
  {
   "cell_type": "code",
   "execution_count": 29,
   "metadata": {},
   "outputs": [],
   "source": [
    "train_data = data[data[0]<500]\n",
    "test_data = data[data[0]>=500]"
   ]
  },
  {
   "cell_type": "code",
   "execution_count": 30,
   "metadata": {},
   "outputs": [
    {
     "name": "stdout",
     "output_type": "stream",
     "text": [
      "(42920, 623)\n",
      "(7080, 623)\n"
     ]
    }
   ],
   "source": [
    "print(train_data.shape)\n",
    "print(test_data.shape)\n",
    "#features = train_data.drop([0,1,2,3,622],axis = 1) #dropping patient ID, and xyz coordinates.  \n",
    "\n",
    "#print(features.shape)"
   ]
  },
  {
   "cell_type": "code",
   "execution_count": 31,
   "metadata": {},
   "outputs": [
    {
     "name": "stdout",
     "output_type": "stream",
     "text": [
      "(42920, 618)\n",
      "(7080, 618)\n",
      "(42920,)\n",
      "(7080,)\n"
     ]
    }
   ],
   "source": [
    "train_labels = train_data[622]\n",
    "test_labels = test_data[622]\n",
    "train_features = train_data.drop([0,1,2,3,622],axis = 1) #dropping patient ID, and xyz coordinates.\n",
    "test_features = test_data.drop([0,1,2,3,622],axis = 1)\n",
    "print(train_features.shape)\n",
    "print(test_features.shape)\n",
    "print(train_labels.shape)\n",
    "print(test_labels.shape)"
   ]
  },
  {
   "cell_type": "code",
   "execution_count": 32,
   "metadata": {},
   "outputs": [],
   "source": [
    "#x_train = features[:40000]\n",
    "#y_train = labels[:40000]\n",
    "#x_test = features[40000:]\n",
    "#y_test = labels[40000:]"
   ]
  },
  {
   "cell_type": "code",
   "execution_count": 33,
   "metadata": {},
   "outputs": [],
   "source": [
    "scaler = StandardScaler()\n",
    "#x_train_scaled = scaler.fit_transform(x_train)\n",
    "#x_test_scaled = scaler.transform(x_test)\n",
    "#x_train_scaled[0:5]\n",
    "train_features_scaled = scaler.fit_transform(train_features)\n",
    "test_features_scaled = scaler.transform(test_features)"
   ]
  },
  {
   "cell_type": "code",
   "execution_count": 34,
   "metadata": {},
   "outputs": [],
   "source": [
    "model1 = DecisionTreeClassifier(random_state = 42)\n",
    "model2 = DecisionTreeClassifier(random_state = 42)\n",
    "#model.fit(x_train_scaled,y_train)"
   ]
  },
  {
   "cell_type": "code",
   "execution_count": 35,
   "metadata": {},
   "outputs": [
    {
     "name": "stdout",
     "output_type": "stream",
     "text": [
      "0.5918079096045198\n"
     ]
    }
   ],
   "source": [
    "model1.fit(train_features,train_labels)\n",
    "test_preds = model1.predict(test_features)\n",
    "print(accuracy_score(test_labels,test_preds))"
   ]
  },
  {
   "cell_type": "code",
   "execution_count": 36,
   "metadata": {},
   "outputs": [
    {
     "name": "stdout",
     "output_type": "stream",
     "text": [
      "0.5915254237288136\n"
     ]
    }
   ],
   "source": [
    "model2.fit(train_features_scaled,train_labels)\n",
    "test_preds = model2.predict(test_features_scaled)\n",
    "print(accuracy_score(test_labels,test_preds))"
   ]
  },
  {
   "cell_type": "code",
   "execution_count": null,
   "metadata": {},
   "outputs": [],
   "source": []
  }
 ],
 "metadata": {
  "anaconda-cloud": {},
  "kernelspec": {
   "display_name": "Python [default]",
   "language": "python",
   "name": "python3"
  },
  "language_info": {
   "codemirror_mode": {
    "name": "ipython",
    "version": 3
   },
   "file_extension": ".py",
   "mimetype": "text/x-python",
   "name": "python",
   "nbconvert_exporter": "python",
   "pygments_lexer": "ipython3",
   "version": "3.5.2"
  }
 },
 "nbformat": 4,
 "nbformat_minor": 2
}
